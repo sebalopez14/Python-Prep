{
 "cells": [
  {
   "attachments": {},
   "cell_type": "markdown",
   "metadata": {},
   "source": [
    "## Manejo de errores"
   ]
  },
  {
   "attachments": {},
   "cell_type": "markdown",
   "metadata": {},
   "source": [
    "1) Con la clase creada en el módulo 7, tener en cuenta diferentes casos en que el código pudiera arrojar error. Por ejemplo, en la creación del objeto recibimos una lista de números enteros pero ¿qué pasa si se envía otro tipo de dato?"
   ]
  },
  {
   "cell_type": "code",
   "execution_count": 3,
   "metadata": {},
   "outputs": [
    {
     "ename": "ValueError",
     "evalue": "No es el valor esperado, debe ingresar una lista",
     "output_type": "error",
     "traceback": [
      "\u001b[1;31m---------------------------------------------------------------------------\u001b[0m",
      "\u001b[1;31mValueError\u001b[0m                                Traceback (most recent call last)",
      "Cell \u001b[1;32mIn[3], line 7\u001b[0m\n\u001b[0;32m      2\u001b[0m sys\u001b[38;5;241m.\u001b[39mpath\u001b[38;5;241m.\u001b[39mappend(\u001b[38;5;124mr\u001b[39m\u001b[38;5;124m'\u001b[39m\u001b[38;5;124m/C:/Users/Usuario/Desktop/Python-Prep/M09_errorhandling/funciones_ej_8.py\u001b[39m\u001b[38;5;124m'\u001b[39m) \u001b[38;5;66;03m# Agrega la ruta al archivo 'herramientas.py' al sys.path\u001b[39;00m\n\u001b[0;32m      5\u001b[0m \u001b[38;5;28;01mfrom\u001b[39;00m \u001b[38;5;21;01mfunciones_ej_8\u001b[39;00m \u001b[38;5;28;01mimport\u001b[39;00m FuncionesOtroModulo \u001b[38;5;28;01mas\u001b[39;00m f \n\u001b[1;32m----> 7\u001b[0m f1 \u001b[38;5;241m=\u001b[39m \u001b[43mf\u001b[49m\u001b[43m(\u001b[49m\u001b[38;5;241;43m2\u001b[39;49m\u001b[43m)\u001b[49m\n",
      "File \u001b[1;32mc:\\Users\\Usuario\\Desktop\\Python-Prep\\M09_errorhandling\\funciones_ej_8.py:5\u001b[0m, in \u001b[0;36mFuncionesOtroModulo.__init__\u001b[1;34m(self, l)\u001b[0m\n\u001b[0;32m      3\u001b[0m \u001b[38;5;28;01mif\u001b[39;00m (\u001b[38;5;28mtype\u001b[39m(l) \u001b[38;5;241m!=\u001b[39m \u001b[38;5;28mlist\u001b[39m):\n\u001b[0;32m      4\u001b[0m     \u001b[38;5;28mself\u001b[39m\u001b[38;5;241m.\u001b[39mlista \u001b[38;5;241m=\u001b[39m []\n\u001b[1;32m----> 5\u001b[0m     \u001b[38;5;28;01mraise\u001b[39;00m \u001b[38;5;167;01mValueError\u001b[39;00m(\u001b[38;5;124m\"\u001b[39m\u001b[38;5;124mNo es el valor esperado, debe ingresar una lista\u001b[39m\u001b[38;5;124m\"\u001b[39m)  \n\u001b[0;32m      6\u001b[0m \u001b[38;5;28;01melse\u001b[39;00m:\n\u001b[0;32m      7\u001b[0m     \u001b[38;5;28mself\u001b[39m\u001b[38;5;241m.\u001b[39mlista \u001b[38;5;241m=\u001b[39m l\n",
      "\u001b[1;31mValueError\u001b[0m: No es el valor esperado, debe ingresar una lista"
     ]
    }
   ],
   "source": [
    "import sys\n",
    "sys.path.append(r'/C:/Users/Usuario/Desktop/Python-Prep/M09_errorhandling/funciones_ej_8.py') # Agrega la ruta al archivo 'herramientas.py' al sys.path\n",
    "\n",
    "\n",
    "from funciones_ej_8 import FuncionesOtroModulo as f \n",
    "\n",
    "f1 = f(2)"
   ]
  },
  {
   "attachments": {},
   "cell_type": "markdown",
   "metadata": {},
   "source": [
    "2) En la función que hace la conversión de grados, validar que los parámetros enviados sean los esperados, de no serlo, informar cuáles son los valores esperados."
   ]
  },
  {
   "cell_type": "code",
   "execution_count": 5,
   "metadata": {},
   "outputs": [
    {
     "name": "stdout",
     "output_type": "stream",
     "text": [
      "2 grados celsius son 275.15 grados kelvin\n",
      "3 grados celsius son 276.15 grados kelvin\n",
      "4 grados celsius son 277.15 grados kelvin\n"
     ]
    },
    {
     "data": {
      "text/plain": [
       "'Los parametros ingresados no son los esperados (celsius, kelvin o farenheit)'"
      ]
     },
     "execution_count": 5,
     "metadata": {},
     "output_type": "execute_result"
    }
   ],
   "source": [
    "f2 = f([2,3,4])\n",
    "f2.grados_lista(\"celsius\", \"kelvin\")\n",
    "f2.grados_lista(\"hola\",1)\n"
   ]
  },
  {
   "attachments": {},
   "cell_type": "markdown",
   "metadata": {},
   "source": [
    "3) Importar el modulo \"unittest\" y crear los siguientes casos de pruebas sobre la clase utilizada en el punto 2<br>\n",
    "Creacion del objeto incorrecta<br>\n",
    "Creacion correcta del objeto<br>\n",
    "Metodo valor_modal()<br>\n",
    "\n",
    "Se puede usar \"raise ValueError()\" en la creación de la clase para verificar el error. Investigar sobre esta funcionalidad."
   ]
  },
  {
   "cell_type": "code",
   "execution_count": 1,
   "metadata": {},
   "outputs": [],
   "source": [
    "import unittest \n",
    "\n",
    "from funciones_ej_8 import FuncionesOtroModulo as f \n",
    "\n",
    "f1 = f([2,3,4,5])"
   ]
  },
  {
   "cell_type": "code",
   "execution_count": 3,
   "metadata": {},
   "outputs": [],
   "source": [
    "class Probando(unittest.TestCase):\n",
    "    \n",
    "    def test_objeto1(self):\n",
    "        param = \"seba\"\n",
    "        self.assertRaises(ValueError, f, param)\n",
    "\n",
    "    def test_objeto2(self):\n",
    "        param = [1,2,2,4]\n",
    "        f1 = f(param)\n",
    "        self.assertEqual(f, param)\n",
    "        \n",
    "\n",
    "    def test_modal(self):\n",
    "        f1 = f([5,2,4])\n",
    "        moda, veces = f1.valor_modal(False)\n",
    "        moda = [moda]\n",
    "        moda.append(veces)\n",
    "        resultado = [1, 2]\n",
    "        self.assertEqual(moda, resultado)"
   ]
  },
  {
   "cell_type": "code",
   "execution_count": 4,
   "metadata": {},
   "outputs": [
    {
     "name": "stderr",
     "output_type": "stream",
     "text": [
      "test_modal (__main__.Probando) ... ERROR\n",
      "test_objeto1 (__main__.Probando) ... ok\n",
      "test_objeto2 (__main__.Probando) ... FAIL\n",
      "\n",
      "======================================================================\n",
      "ERROR: test_modal (__main__.Probando)\n",
      "----------------------------------------------------------------------\n",
      "Traceback (most recent call last):\n",
      "  File \"C:\\Users\\Usuario\\AppData\\Local\\Temp\\ipykernel_14328\\1437949878.py\", line 15, in test_modal\n",
      "    moda, veces = f1.valor_modal(False)\n",
      "TypeError: FuncionesOtroModulo.valor_modal() takes 1 positional argument but 2 were given\n",
      "\n",
      "======================================================================\n",
      "FAIL: test_objeto2 (__main__.Probando)\n",
      "----------------------------------------------------------------------\n",
      "Traceback (most recent call last):\n",
      "  File \"C:\\Users\\Usuario\\AppData\\Local\\Temp\\ipykernel_14328\\1437949878.py\", line 10, in test_objeto2\n",
      "    self.assertEqual(f, param)\n",
      "AssertionError: <class 'funciones_ej_8.FuncionesOtroModulo'> != [1, 2, 2, 4]\n",
      "\n",
      "----------------------------------------------------------------------\n",
      "Ran 3 tests in 0.004s\n",
      "\n",
      "FAILED (failures=1, errors=1)\n"
     ]
    },
    {
     "data": {
      "text/plain": [
       "<unittest.main.TestProgram at 0x1f0a56d69e0>"
      ]
     },
     "execution_count": 4,
     "metadata": {},
     "output_type": "execute_result"
    }
   ],
   "source": [
    "unittest.main(argv=[\"\"], verbosity=2, exit=False)"
   ]
  },
  {
   "attachments": {},
   "cell_type": "markdown",
   "metadata": {},
   "source": [
    "4) Probar una creación incorrecta y visualizar la salida del \"raise\""
   ]
  },
  {
   "cell_type": "code",
   "execution_count": 5,
   "metadata": {},
   "outputs": [
    {
     "ename": "ValueError",
     "evalue": "No es el valor esperado, debe ingresar una lista",
     "output_type": "error",
     "traceback": [
      "\u001b[1;31m---------------------------------------------------------------------------\u001b[0m",
      "\u001b[1;31mValueError\u001b[0m                                Traceback (most recent call last)",
      "Cell \u001b[1;32mIn[5], line 1\u001b[0m\n\u001b[1;32m----> 1\u001b[0m f3 \u001b[38;5;241m=\u001b[39m \u001b[43mf\u001b[49m\u001b[43m(\u001b[49m\u001b[38;5;124;43m\"\u001b[39;49m\u001b[38;5;124;43mincorrecto\u001b[39;49m\u001b[38;5;124;43m\"\u001b[39;49m\u001b[43m)\u001b[49m\n",
      "File \u001b[1;32mc:\\Users\\Usuario\\Desktop\\Python-Prep\\M09_errorhandling\\funciones_ej_8.py:5\u001b[0m, in \u001b[0;36mFuncionesOtroModulo.__init__\u001b[1;34m(self, l)\u001b[0m\n\u001b[0;32m      3\u001b[0m \u001b[38;5;28;01mif\u001b[39;00m (\u001b[38;5;28mtype\u001b[39m(l) \u001b[38;5;241m!=\u001b[39m \u001b[38;5;28mlist\u001b[39m):\n\u001b[0;32m      4\u001b[0m     \u001b[38;5;28mself\u001b[39m\u001b[38;5;241m.\u001b[39mlista \u001b[38;5;241m=\u001b[39m []\n\u001b[1;32m----> 5\u001b[0m     \u001b[38;5;28;01mraise\u001b[39;00m \u001b[38;5;167;01mValueError\u001b[39;00m(\u001b[38;5;124m\"\u001b[39m\u001b[38;5;124mNo es el valor esperado, debe ingresar una lista\u001b[39m\u001b[38;5;124m\"\u001b[39m)  \n\u001b[0;32m      6\u001b[0m \u001b[38;5;28;01melse\u001b[39;00m:\n\u001b[0;32m      7\u001b[0m     \u001b[38;5;28mself\u001b[39m\u001b[38;5;241m.\u001b[39mlista \u001b[38;5;241m=\u001b[39m l\n",
      "\u001b[1;31mValueError\u001b[0m: No es el valor esperado, debe ingresar una lista"
     ]
    }
   ],
   "source": [
    "f3 = f(\"incorrecto\")"
   ]
  },
  {
   "attachments": {},
   "cell_type": "markdown",
   "metadata": {},
   "source": [
    "6) Agregar casos de pruebas para el método verifica_primos() realizando el cambio en la clase, para que devuelva una lista de True o False en función de que el elemento en la posisicón sea o no primo"
   ]
  },
  {
   "cell_type": "code",
   "execution_count": 2,
   "metadata": {},
   "outputs": [
    {
     "data": {
      "text/plain": [
       "[True, True, False, True]"
      ]
     },
     "execution_count": 2,
     "metadata": {},
     "output_type": "execute_result"
    }
   ],
   "source": [
    "f1.primo_lista_de_otro_modulo()"
   ]
  },
  {
   "cell_type": "code",
   "execution_count": 12,
   "metadata": {},
   "outputs": [],
   "source": [
    "class Probando2(unittest.TestCase):\n",
    "\n",
    "    def test_verifica_primos1(self):\n",
    "        lista = [2,3,4,5]\n",
    "        f1 = f(lista)\n",
    "        primos = f1.primo_lista_de_otro_modulo()\n",
    "        primos_esperado = [True, True, False, True]\n",
    "        self.assertEqual(primos, primos_esperado)"
   ]
  },
  {
   "cell_type": "code",
   "execution_count": 13,
   "metadata": {},
   "outputs": [
    {
     "name": "stderr",
     "output_type": "stream",
     "text": [
      "test_modal (__main__.Probando) ... ERROR\n",
      "test_objeto1 (__main__.Probando) ... ok\n",
      "test_objeto2 (__main__.Probando) ... FAIL\n",
      "test_verifica_primos1 (__main__.Probando2) ... ok\n",
      "\n",
      "======================================================================\n",
      "ERROR: test_modal (__main__.Probando)\n",
      "----------------------------------------------------------------------\n",
      "Traceback (most recent call last):\n",
      "  File \"C:\\Users\\Usuario\\AppData\\Local\\Temp\\ipykernel_14328\\1437949878.py\", line 15, in test_modal\n",
      "    moda, veces = f1.valor_modal(False)\n",
      "TypeError: FuncionesOtroModulo.valor_modal() takes 1 positional argument but 2 were given\n",
      "\n",
      "======================================================================\n",
      "FAIL: test_objeto2 (__main__.Probando)\n",
      "----------------------------------------------------------------------\n",
      "Traceback (most recent call last):\n",
      "  File \"C:\\Users\\Usuario\\AppData\\Local\\Temp\\ipykernel_14328\\1437949878.py\", line 10, in test_objeto2\n",
      "    self.assertEqual(f, param)\n",
      "AssertionError: <class 'funciones_ej_8.FuncionesOtroModulo'> != [1, 2, 2, 4]\n",
      "\n",
      "----------------------------------------------------------------------\n",
      "Ran 4 tests in 0.005s\n",
      "\n",
      "FAILED (failures=1, errors=1)\n"
     ]
    },
    {
     "data": {
      "text/plain": [
       "<unittest.main.TestProgram at 0x1f0a6289d50>"
      ]
     },
     "execution_count": 13,
     "metadata": {},
     "output_type": "execute_result"
    }
   ],
   "source": [
    "unittest.main(argv=[\"\"], verbosity=2, exit=False)"
   ]
  },
  {
   "attachments": {},
   "cell_type": "markdown",
   "metadata": {},
   "source": [
    "7) Agregar casos de pruebas para el método conversion_grados()"
   ]
  },
  {
   "cell_type": "code",
   "execution_count": 14,
   "metadata": {},
   "outputs": [
    {
     "name": "stdout",
     "output_type": "stream",
     "text": [
      "2 grados celsius son 35.6 grados farenheit\n",
      "3 grados celsius son 37.4 grados farenheit\n",
      "4 grados celsius son 39.2 grados farenheit\n",
      "5 grados celsius son 41.0 grados farenheit\n"
     ]
    }
   ],
   "source": [
    "f1 = f([2,3,4,5])\n",
    "f1.grados_lista('celsius','farenheit')"
   ]
  },
  {
   "cell_type": "code",
   "execution_count": 15,
   "metadata": {},
   "outputs": [],
   "source": [
    "class Probando3(unittest.TestCase):\n",
    "\n",
    "    def test_conver(self):\n",
    "        lis = [2,3,4,5]\n",
    "        f1 = f(lis)\n",
    "        grados = f1.grados_lista('celsius','farenheit')\n",
    "        grados_esperado = [35.6, 37.4, 39.2, 41.0]\n",
    "        self.assertEqual(grados, grados_esperado)"
   ]
  },
  {
   "cell_type": "code",
   "execution_count": 16,
   "metadata": {},
   "outputs": [
    {
     "name": "stderr",
     "output_type": "stream",
     "text": [
      "test_modal (__main__.Probando) ... ERROR\n",
      "test_objeto1 (__main__.Probando) ... ok\n",
      "test_objeto2 (__main__.Probando) ... FAIL\n",
      "test_verifica_primos1 (__main__.Probando2) ... ok\n",
      "test_conver (__main__.Probando3) ... FAIL\n",
      "\n",
      "======================================================================\n",
      "ERROR: test_modal (__main__.Probando)\n",
      "----------------------------------------------------------------------\n",
      "Traceback (most recent call last):\n",
      "  File \"C:\\Users\\Usuario\\AppData\\Local\\Temp\\ipykernel_14328\\1437949878.py\", line 15, in test_modal\n",
      "    moda, veces = f1.valor_modal(False)\n",
      "TypeError: FuncionesOtroModulo.valor_modal() takes 1 positional argument but 2 were given\n",
      "\n",
      "======================================================================\n",
      "FAIL: test_objeto2 (__main__.Probando)\n",
      "----------------------------------------------------------------------\n",
      "Traceback (most recent call last):\n",
      "  File \"C:\\Users\\Usuario\\AppData\\Local\\Temp\\ipykernel_14328\\1437949878.py\", line 10, in test_objeto2\n",
      "    self.assertEqual(f, param)\n",
      "AssertionError: <class 'funciones_ej_8.FuncionesOtroModulo'> != [1, 2, 2, 4]\n",
      "\n",
      "======================================================================\n",
      "FAIL: test_conver (__main__.Probando3)\n",
      "----------------------------------------------------------------------\n",
      "Traceback (most recent call last):\n",
      "  File \"C:\\Users\\Usuario\\AppData\\Local\\Temp\\ipykernel_14328\\3536361830.py\", line 8, in test_conver\n",
      "    self.assertEqual(grados, grados_esperado)\n",
      "AssertionError: None != [35.6, 37.4, 39.2, 41.0]\n",
      "\n",
      "----------------------------------------------------------------------\n",
      "Ran 5 tests in 0.006s\n",
      "\n",
      "FAILED (failures=2, errors=1)\n"
     ]
    },
    {
     "name": "stdout",
     "output_type": "stream",
     "text": [
      "2 grados celsius son 35.6 grados farenheit\n",
      "3 grados celsius son 37.4 grados farenheit\n",
      "4 grados celsius son 39.2 grados farenheit\n",
      "5 grados celsius son 41.0 grados farenheit\n"
     ]
    },
    {
     "data": {
      "text/plain": [
       "<unittest.main.TestProgram at 0x1f0a56d57b0>"
      ]
     },
     "execution_count": 16,
     "metadata": {},
     "output_type": "execute_result"
    }
   ],
   "source": [
    "unittest.main(argv=[\"\"], verbosity=2, exit=False)"
   ]
  },
  {
   "attachments": {},
   "cell_type": "markdown",
   "metadata": {},
   "source": [
    "8) Agregar casos de pruebas para el método factorial()"
   ]
  },
  {
   "cell_type": "code",
   "execution_count": 1,
   "metadata": {},
   "outputs": [
    {
     "data": {
      "text/plain": [
       "[2, 6, 24, 120]"
      ]
     },
     "execution_count": 1,
     "metadata": {},
     "output_type": "execute_result"
    }
   ],
   "source": [
    "import unittest \n",
    "\n",
    "from funciones_ej_8 import FuncionesOtroModulo as f \n",
    "\n",
    "f1 = f([2,3,4,5])\n",
    "f1.factorial_lista()"
   ]
  },
  {
   "cell_type": "code",
   "execution_count": 5,
   "metadata": {},
   "outputs": [],
   "source": [
    "class Probando4(unittest.TestCase):\n",
    "\n",
    "    def test_factorial(self):\n",
    "        lis = [2,3,4,5]\n",
    "        f1 = f(lis)\n",
    "        factorial = f1.factorial_lista()\n",
    "        factorial_esperado = [2, 6, 24, 120]\n",
    "        self.assertEqual(factorial, factorial_esperado)"
   ]
  },
  {
   "cell_type": "code",
   "execution_count": 6,
   "metadata": {},
   "outputs": [
    {
     "name": "stderr",
     "output_type": "stream",
     "text": [
      "test_factorial (__main__.Probando4) ... ok\n",
      "\n",
      "----------------------------------------------------------------------\n",
      "Ran 1 test in 0.001s\n",
      "\n",
      "OK\n"
     ]
    },
    {
     "data": {
      "text/plain": [
       "<unittest.main.TestProgram at 0x11fdb1dd510>"
      ]
     },
     "execution_count": 6,
     "metadata": {},
     "output_type": "execute_result"
    }
   ],
   "source": [
    "unittest.main(argv=[\"\"], verbosity=2, exit=False)"
   ]
  }
 ],
 "metadata": {
  "interpreter": {
   "hash": "c85384e4cb51c8b72350f3a8712cc8351fdc3955e32a27f9b60c6242ab125f01"
  },
  "kernelspec": {
   "display_name": "Python 3 (ipykernel)",
   "language": "python",
   "name": "python3"
  },
  "language_info": {
   "codemirror_mode": {
    "name": "ipython",
    "version": 3
   },
   "file_extension": ".py",
   "mimetype": "text/x-python",
   "name": "python",
   "nbconvert_exporter": "python",
   "pygments_lexer": "ipython3",
   "version": "3.10.11"
  }
 },
 "nbformat": 4,
 "nbformat_minor": 4
}
