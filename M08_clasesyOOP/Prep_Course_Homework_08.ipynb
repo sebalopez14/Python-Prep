{
 "cells": [
  {
   "attachments": {},
   "cell_type": "markdown",
   "metadata": {},
   "source": [
    "## Clases y Programación Orientada a Objetos"
   ]
  },
  {
   "attachments": {},
   "cell_type": "markdown",
   "metadata": {},
   "source": [
    "1) Crear la clase vehículo que contenga los atributos:<br>\n",
    "Color<br>\n",
    "Si es moto, auto, camioneta ó camión<br>\n",
    "Cilindrada del motor"
   ]
  },
  {
   "cell_type": "code",
   "execution_count": 1,
   "metadata": {},
   "outputs": [],
   "source": [
    "class Vehiculo:\n",
    "    def __init__(self,color, tipo, cilindrada):\n",
    "        self.color = color\n",
    "        self.tipo = tipo\n",
    "        self.cilindrada = cilindrada\n"
   ]
  },
  {
   "attachments": {},
   "cell_type": "markdown",
   "metadata": {},
   "source": [
    "2) A la clase Vehiculo creada en el punto 1, agregar los siguientes métodos:<br>\n",
    "Acelerar<br>\n",
    "Frenar<br>\n",
    "Doblar<br>"
   ]
  },
  {
   "cell_type": "code",
   "execution_count": 10,
   "metadata": {},
   "outputs": [],
   "source": [
    "class Vehiculo:\n",
    "    def __init__(self,color, tipo, cilindrada):\n",
    "        self.color = color\n",
    "        self.tipo = tipo\n",
    "        self.cilindrada = cilindrada\n",
    "        self.velocidad = 0\n",
    "        self.direccion = \"recto\"\n",
    "        \n",
    "    def acelerar(self, aceleracion):\n",
    "        self.velocidad += aceleracion\n",
    "        \n",
    "    def frenar(self, desaceleracion):\n",
    "        self.velocidad -= desaceleracion\n",
    "    \n",
    "    def doblar(self, direc):\n",
    "        if direc.lower() == \"izquierda\" or \"derecha\":\n",
    "            self.direccion = direc\n",
    "        else:\n",
    "            self.direccion = \"recto\"\n",
    "        "
   ]
  },
  {
   "attachments": {},
   "cell_type": "markdown",
   "metadata": {},
   "source": [
    "3) Instanciar 3 objetos de la clase vehículo y ejecutar sus métodos, probar luego el resultado"
   ]
  },
  {
   "cell_type": "code",
   "execution_count": 7,
   "metadata": {},
   "outputs": [],
   "source": [
    "v1 = Vehiculo(\"azul\", \"camioneta\", 3000)\n",
    "v2 = Vehiculo(\"rojo\", \"moto\", 250)\n",
    "v3 = Vehiculo(\"blanco\", \"camion\", 6000)"
   ]
  },
  {
   "cell_type": "code",
   "execution_count": 11,
   "metadata": {},
   "outputs": [],
   "source": [
    "v1.acelerar(30)\n",
    "v1.frenar(10)\n",
    "v3.doblar(\"izquierda\")"
   ]
  },
  {
   "attachments": {},
   "cell_type": "markdown",
   "metadata": {},
   "source": [
    "4) Agregar a la clase Vehiculo, un método que muestre su estado, es decir, a que velocidad se encuentra y su dirección. Y otro método que muestre color, tipo y cilindrada"
   ]
  },
  {
   "cell_type": "code",
   "execution_count": 22,
   "metadata": {},
   "outputs": [],
   "source": [
    "class Vehiculo:\n",
    "    def __init__(self,color, tipo, cilindrada):\n",
    "        self.color = color\n",
    "        self.tipo = tipo\n",
    "        self.cilindrada = cilindrada\n",
    "        self.velocidad = 0\n",
    "        self.direccion = \"recta\"\n",
    "        \n",
    "    def acelerar(self, aceleracion):\n",
    "        self.velocidad += aceleracion\n",
    "        \n",
    "    def frenar(self, desaceleracion):\n",
    "        self.velocidad -= desaceleracion\n",
    "    \n",
    "    def doblar(self, direc):\n",
    "        if direc.lower() == \"izquierda\" or \"derecha\":\n",
    "            self.direccion = direc\n",
    "        else:\n",
    "            self.direccion = \"recta\"\n",
    "    \n",
    "    def descripcion(self):\n",
    "        print(self.tipo, self.color, self.cilindrada, \"cilindros\")\n",
    "\n",
    "    def estado(self):\n",
    "        print(self.tipo, self.color, \"va a una velocidad de \", self.velocidad, \" km, y va en direccion\", self.direccion)\n",
    "    "
   ]
  },
  {
   "cell_type": "code",
   "execution_count": 23,
   "metadata": {},
   "outputs": [
    {
     "name": "stdout",
     "output_type": "stream",
     "text": [
      "camioneta azul 3000 cilindros\n",
      "camioneta azul va a una velocidad de  0  km, y va en direccion recta\n"
     ]
    }
   ],
   "source": [
    "v1 = Vehiculo(\"azul\", \"camioneta\", 3000)\n",
    "v2 = Vehiculo(\"rojo\", \"moto\", 250)\n",
    "v3 = Vehiculo(\"blanco\", \"camion\", 6000)\n",
    "\n",
    "v1.descripcion()\n",
    "v1.estado()"
   ]
  },
  {
   "attachments": {},
   "cell_type": "markdown",
   "metadata": {},
   "source": [
    "5) Crear una clase que permita utilizar las funciones creadas en la práctica del módulo 7<br>\n",
    "Verificar Primo<br>\n",
    "Valor modal<br>\n",
    "Conversión grados<br>\n",
    "Factorial<br>"
   ]
  },
  {
   "cell_type": "code",
   "execution_count": 55,
   "metadata": {},
   "outputs": [],
   "source": [
    "class Funciones:\n",
    "    \n",
    "    def primo(self,x) :\n",
    "        es_primo=True\n",
    "        for i in range(2,x):\n",
    "            if x % i == 0:\n",
    "                es_primo =  False\n",
    "        return es_primo\n",
    "    \n",
    "    def valor_modal(lista): #La tome de la solucion ya que resolvi este ejercicio del modulo anterior de otra manera\n",
    "        lista_unicos = []\n",
    "        lista_repeticiones = []\n",
    "        if len(lista) == 0:\n",
    "            return None\n",
    "        for elemento in lista:\n",
    "            if elemento in lista_unicos:\n",
    "                i = lista_unicos.index(elemento)\n",
    "                lista_repeticiones[i] += 1\n",
    "            else:\n",
    "                lista_unicos.append(elemento)\n",
    "                lista_repeticiones.append(1)\n",
    "        moda = lista_unicos[0]\n",
    "        maximo = lista_repeticiones[0]\n",
    "        for i, elemento in enumerate(lista_unicos):\n",
    "            if lista_repeticiones[i] > maximo:\n",
    "                moda = lista_unicos[i]\n",
    "                maximo = lista_repeticiones[i]\n",
    "        return moda, maximo\n",
    "    \n",
    "    def grados_conver(valor, orig, dest):\n",
    "    \n",
    "        celsius_a_fahrenheit = (9/5) * valor + 32\n",
    "        fahrenheit_a_celsius = (5/9) * (valor - 32)\n",
    "        celsius_a_kelvin = valor + 273.15\n",
    "        kelvin_a_celsius = valor - 273.15\n",
    "        fahrenheit_a_kelvin = (5/9) * (valor - 32) + 273.15\n",
    "        kelvin_a_fahrenheit = (9/5) * (valor - 273.15) + 32\n",
    "        \n",
    "        if orig == \"celsius\" and dest == \"farenheit\":\n",
    "            return celsius_a_fahrenheit\n",
    "        elif orig == \"farenheit\" and dest == \"celsius\":\n",
    "            return fahrenheit_a_celsius\n",
    "        elif orig == \"celsius\" and dest == \"kelvin\":\n",
    "            return celsius_a_kelvin\n",
    "        elif orig == \"kelvin\" and dest == \"celsius\":\n",
    "            return kelvin_a_celsius\n",
    "        elif orig == \"farenheit\" and dest == \"kelvin\":\n",
    "            return fahrenheit_a_kelvin\n",
    "        elif orig == \"kelvin\" and dest == \"farenheit\":\n",
    "            return kelvin_a_fahrenheit\n",
    "        elif orig == dest:\n",
    "            return \"No se puede convertir en la misma medida\"\n",
    "        \n",
    "    def factorial(self, n):\n",
    "        if(type(n) != int or n<0):\n",
    "            return \"El numero debe ser un entero y positivo\"\n",
    "        if (n > 1):\n",
    "            n = n * self.factorial(n - 1)\n",
    "        return n"
   ]
  },
  {
   "cell_type": "code",
   "execution_count": 56,
   "metadata": {},
   "outputs": [],
   "source": [
    "f = Funciones()"
   ]
  },
  {
   "attachments": {},
   "cell_type": "markdown",
   "metadata": {},
   "source": [
    "6) Probar las funciones incorporadas en la clase del punto 5"
   ]
  },
  {
   "cell_type": "code",
   "execution_count": 58,
   "metadata": {},
   "outputs": [
    {
     "name": "stdout",
     "output_type": "stream",
     "text": [
      "False 120\n"
     ]
    }
   ],
   "source": [
    "a = f.primo(4)\n",
    "print(a,f.factorial(5))\n"
   ]
  },
  {
   "attachments": {},
   "cell_type": "markdown",
   "metadata": {},
   "source": [
    "7) Es necesario que la clase creada en el punto 5 contenga una lista, sobre la cual se apliquen las funciones incorporadas"
   ]
  },
  {
   "cell_type": "code",
   "execution_count": 82,
   "metadata": {},
   "outputs": [],
   "source": [
    "class Funciones:\n",
    "    def __init__(self, l):\n",
    "        self.lista = l\n",
    "        \n",
    "    def mostrar_lista(self):\n",
    "        print(self.lista)\n",
    "    \n",
    "    def primo(self,x) :\n",
    "        es_primo=True\n",
    "        for i in range(2,x):\n",
    "            if x % i == 0:\n",
    "                es_primo =  False\n",
    "        return es_primo\n",
    "    \n",
    "    def valor_modal(lista): #La tome de la solucion ya que resolvi este ejercicio del modulo anterior de otra manera\n",
    "        lista_unicos = []\n",
    "        lista_repeticiones = []\n",
    "        if len(lista) == 0:\n",
    "            return None\n",
    "        for elemento in lista:\n",
    "            if elemento in lista_unicos:\n",
    "                i = lista_unicos.index(elemento)\n",
    "                lista_repeticiones[i] += 1\n",
    "            else:\n",
    "                lista_unicos.append(elemento)\n",
    "                lista_repeticiones.append(1)\n",
    "        moda = lista_unicos[0]\n",
    "        maximo = lista_repeticiones[0]\n",
    "        for i, elemento in enumerate(lista_unicos):\n",
    "            if lista_repeticiones[i] > maximo:\n",
    "                moda = lista_unicos[i]\n",
    "                maximo = lista_repeticiones[i]\n",
    "        return moda, maximo\n",
    "    \n",
    "    def grados_conver(self, valor, orig, dest):\n",
    "    \n",
    "        celsius_a_fahrenheit = (9/5) * valor + 32\n",
    "        fahrenheit_a_celsius = (5/9) * (valor - 32)\n",
    "        celsius_a_kelvin = valor + 273.15\n",
    "        kelvin_a_celsius = valor - 273.15\n",
    "        fahrenheit_a_kelvin = (5/9) * (valor - 32) + 273.15\n",
    "        kelvin_a_fahrenheit = (9/5) * (valor - 273.15) + 32\n",
    "        \n",
    "        if orig == \"celsius\" and dest == \"farenheit\":\n",
    "            return celsius_a_fahrenheit\n",
    "        elif orig == \"farenheit\" and dest == \"celsius\":\n",
    "            return fahrenheit_a_celsius\n",
    "        elif orig == \"celsius\" and dest == \"kelvin\":\n",
    "            return celsius_a_kelvin\n",
    "        elif orig == \"kelvin\" and dest == \"celsius\":\n",
    "            return kelvin_a_celsius\n",
    "        elif orig == \"farenheit\" and dest == \"kelvin\":\n",
    "            return fahrenheit_a_kelvin\n",
    "        elif orig == \"kelvin\" and dest == \"farenheit\":\n",
    "            return kelvin_a_fahrenheit\n",
    "        elif orig == dest:\n",
    "            return \"No se puede convertir en la misma medida\"\n",
    "        \n",
    "    def factorial(self, n):\n",
    "        if(type(n) != int or n<0):\n",
    "            return \"El numero debe ser un entero y positivo\"\n",
    "        if (n > 1):\n",
    "            n = n * self.factorial(n - 1)\n",
    "        return n\n",
    "    \n",
    "    def primo_lista(self):\n",
    "        for i in self.lista:\n",
    "            if (self.primo(i)):\n",
    "                print(i, \"Es primo\")\n",
    "            else:\n",
    "                print(i, \"No es primo\")\n",
    "                \n",
    "    def grados_lista(self, ori, des):\n",
    "        for i in self.lista:\n",
    "            print(i, 'grados', ori, 'son', self.grados_conver(i, ori, des),'grados',des)\n",
    "\n",
    "    def factorial_lista(self):\n",
    "        for i in self.lista:\n",
    "            print('El factorial de ', i, 'es', self.factorial(i))"
   ]
  },
  {
   "cell_type": "code",
   "execution_count": 89,
   "metadata": {},
   "outputs": [],
   "source": [
    "f = Funciones([5, 3, 8, 10, 3, 7, 1, 6, 9, 4])"
   ]
  },
  {
   "cell_type": "code",
   "execution_count": 90,
   "metadata": {},
   "outputs": [
    {
     "name": "stdout",
     "output_type": "stream",
     "text": [
      "5 grados kelvin son -268.15 grados celsius\n",
      "3 grados kelvin son -270.15 grados celsius\n",
      "8 grados kelvin son -265.15 grados celsius\n",
      "10 grados kelvin son -263.15 grados celsius\n",
      "3 grados kelvin son -270.15 grados celsius\n",
      "7 grados kelvin son -266.15 grados celsius\n",
      "1 grados kelvin son -272.15 grados celsius\n",
      "6 grados kelvin son -267.15 grados celsius\n",
      "9 grados kelvin son -264.15 grados celsius\n",
      "4 grados kelvin son -269.15 grados celsius\n",
      "--------------------------\n",
      "El factorial de  5 es 120\n",
      "El factorial de  3 es 6\n",
      "El factorial de  8 es 40320\n",
      "El factorial de  10 es 3628800\n",
      "El factorial de  3 es 6\n",
      "El factorial de  7 es 5040\n",
      "El factorial de  1 es 1\n",
      "El factorial de  6 es 720\n",
      "El factorial de  9 es 362880\n",
      "El factorial de  4 es 24\n",
      "--------------------------\n",
      "5 Es primo\n",
      "3 Es primo\n",
      "8 No es primo\n",
      "10 No es primo\n",
      "3 Es primo\n",
      "7 Es primo\n",
      "1 Es primo\n",
      "6 No es primo\n",
      "9 No es primo\n",
      "4 No es primo\n",
      "--------------------------\n"
     ]
    }
   ],
   "source": [
    "f.grados_lista(\"kelvin\", \"celsius\")\n",
    "print(\"--------------------------\")\n",
    "f.factorial_lista()\n",
    "print(\"--------------------------\")\n",
    "f.primo_lista()\n",
    "print(\"--------------------------\")\n"
   ]
  },
  {
   "attachments": {},
   "cell_type": "markdown",
   "metadata": {},
   "source": [
    "8) Crear un archivo .py aparte y ubicar allí la clase generada en el punto anterior. Luego realizar la importación del módulo y probar alguna de sus funciones"
   ]
  },
  {
   "cell_type": "code",
   "execution_count": 4,
   "metadata": {},
   "outputs": [
    {
     "name": "stdout",
     "output_type": "stream",
     "text": [
      "[2, 3, 4, 5, 6, 7]\n"
     ]
    }
   ],
   "source": [
    "from funciones_ej_8 import *\n",
    "\n",
    "j = FuncionesOtroModulo([2,3,4,5,6,7])\n",
    "j.mostrar_lista()"
   ]
  }
 ],
 "metadata": {
  "interpreter": {
   "hash": "c85384e4cb51c8b72350f3a8712cc8351fdc3955e32a27f9b60c6242ab125f01"
  },
  "kernelspec": {
   "display_name": "Python 3 (ipykernel)",
   "language": "python",
   "name": "python3"
  },
  "language_info": {
   "codemirror_mode": {
    "name": "ipython",
    "version": 3
   },
   "file_extension": ".py",
   "mimetype": "text/x-python",
   "name": "python",
   "nbconvert_exporter": "python",
   "pygments_lexer": "ipython3",
   "version": "3.10.11"
  }
 },
 "nbformat": 4,
 "nbformat_minor": 4
}
