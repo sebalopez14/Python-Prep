{
 "cells": [
  {
   "attachments": {},
   "cell_type": "markdown",
   "metadata": {},
   "source": [
    "## Funciones"
   ]
  },
  {
   "attachments": {},
   "cell_type": "markdown",
   "metadata": {},
   "source": [
    "1) Crear una función que reciba un número como parámetro y devuelva True si es primo y False si no lo es"
   ]
  },
  {
   "cell_type": "code",
   "execution_count": 9,
   "metadata": {},
   "outputs": [
    {
     "data": {
      "text/plain": [
       "False"
      ]
     },
     "execution_count": 9,
     "metadata": {},
     "output_type": "execute_result"
    }
   ],
   "source": [
    "\n",
    "def primo(x) :\n",
    "    es_primo=True\n",
    "    for i in range(2,x):\n",
    "        if x % i == 0:\n",
    "            es_primo =  False\n",
    "    return es_primo\n",
    "\n",
    "x = 4\n",
    "primo(x)"
   ]
  },
  {
   "attachments": {},
   "cell_type": "markdown",
   "metadata": {},
   "source": [
    "2) Utilizando la función del punto 1, realizar otra función que reciba de parámetro una lista de números y devuelva sólo aquellos que son primos en otra lista"
   ]
  },
  {
   "cell_type": "code",
   "execution_count": 23,
   "metadata": {},
   "outputs": [
    {
     "data": {
      "text/plain": [
       "[2, 3, 5, 7]"
      ]
     },
     "execution_count": 23,
     "metadata": {},
     "output_type": "execute_result"
    }
   ],
   "source": [
    "\n",
    "def primo_list(x):\n",
    "    x_primos = []\n",
    "    for i in x:   \n",
    "        if primo(i):\n",
    "            x_primos.append(i)\n",
    "    return x_primos\n",
    "\n",
    "\n",
    "primo_list(x)"
   ]
  },
  {
   "attachments": {},
   "cell_type": "markdown",
   "metadata": {},
   "source": [
    "3) Crear una función que al recibir una lista de números, devuelva el que más se repite y cuántas veces lo hace. Si hay más de un \"más repetido\", que devuelva cualquiera"
   ]
  },
  {
   "cell_type": "code",
   "execution_count": 1,
   "metadata": {},
   "outputs": [
    {
     "name": "stdout",
     "output_type": "stream",
     "text": [
      "{1: 1, 2: 4, 3: 5, 4: 5, 5: 1, 6: 1, 7: 1, 8: 1, 9: 1, 10: 1}\n",
      "El numero que mas se repite es  3 , 5  veces\n",
      "Empata en cantidad con  4 ,que se repite  5  veces\n"
     ]
    }
   ],
   "source": [
    "numeros = [1, 2, 3, 4, 5, 2, 6, 7, 8, 9, 3, 10, 2, 2, 3, 3, 3, 4, 4, 4, 4]\n",
    "\n",
    "def de_lista_a_dicc(x):\n",
    "    dicc= {}\n",
    "    for i in x:\n",
    "        if i in dicc: #Si ya esta ese numero en el dicc salta al siguiente numero\n",
    "            continue\n",
    "        contador = 0\n",
    "        for e in x:\n",
    "            if i == e:\n",
    "                contador += 1\n",
    "        dicc[i] = contador\n",
    "    return dicc\n",
    "\n",
    "diccionario = de_lista_a_dicc(numeros)\n",
    "print(diccionario)\n",
    "\n",
    "def numero_mas_grande_dicc(dicc):\n",
    "    valormayor = 0\n",
    "    for i in dicc:\n",
    "        valor = dicc[i]\n",
    "        if valor > valormayor:\n",
    "            clavedelmayor = i\n",
    "            valormayor = valor\n",
    "    print(\"El numero que mas se repite es \", clavedelmayor, \",\",valormayor,\" veces\")\n",
    "    \n",
    "    for i in dicc:\n",
    "        valor = dicc[i]\n",
    "        if valor == valormayor and i != clavedelmayor:\n",
    "            print(\"Empata en cantidad con \", i, \",que se repite \",valormayor,\" veces\")\n",
    "            \n",
    "numero_mas_grande_dicc(diccionario)"
   ]
  },
  {
   "attachments": {},
   "cell_type": "markdown",
   "metadata": {},
   "source": [
    "4) Crear una función que convierta entre grados Celsius, Farenheit y Kelvin<br>\n",
    "Fórmula 1\t: (°C × 9/5) + 32 = °F<br>\n",
    "Fórmula 2\t: °C + 273.15 = °K<br>\n",
    "Debe recibir 3 parámetros: el valor, la medida de orígen y la medida de destino\n"
   ]
  },
  {
   "cell_type": "code",
   "execution_count": 1,
   "metadata": {},
   "outputs": [],
   "source": [
    "\n",
    "def grados_conver(valor, orig, dest):\n",
    "    \n",
    "    celsius_a_fahrenheit = (9/5) * valor + 32\n",
    "    fahrenheit_a_celsius = (5/9) * (valor - 32)\n",
    "    celsius_a_kelvin = valor + 273.15\n",
    "    kelvin_a_celsius = valor - 273.15\n",
    "    fahrenheit_a_kelvin = (5/9) * (valor - 32) + 273.15\n",
    "    kelvin_a_fahrenheit = (9/5) * (valor - 273.15) + 32\n",
    "    \n",
    "    if orig == \"celsius\" and dest == \"farenheit\":\n",
    "        return celsius_a_fahrenheit\n",
    "    elif orig == \"farenheit\" and dest == \"celsius\":\n",
    "        return fahrenheit_a_celsius\n",
    "    elif orig == \"celsius\" and dest == \"kelvin\":\n",
    "        return celsius_a_kelvin\n",
    "    elif orig == \"kelvin\" and dest == \"celsius\":\n",
    "        return kelvin_a_celsius\n",
    "    elif orig == \"farenheit\" and dest == \"kelvin\":\n",
    "        return fahrenheit_a_kelvin\n",
    "    elif orig == \"kelvin\" and dest == \"farenheit\":\n",
    "        return kelvin_a_fahrenheit\n",
    "    elif orig == dest:\n",
    "        return \"No se puede convertir en la misma medida\"\n",
    "    \n",
    "valor = int(input(\"Ingrese los grados (numerico)\"))\n",
    "orig = input(\"Elija la medida ingresada\")\n",
    "dest = input(\"Elija a que grado desea convertir:\")\n",
    "\n",
    "grados_conver(valor, orig, dest)"
   ]
  },
  {
   "attachments": {},
   "cell_type": "markdown",
   "metadata": {},
   "source": [
    "5) Iterando una lista con los tres valores posibles de temperatura que recibe la función del punto 5, hacer un print para cada combinación de los mismos:"
   ]
  },
  {
   "cell_type": "code",
   "execution_count": 4,
   "metadata": {},
   "outputs": [
    {
     "name": "stdout",
     "output_type": "stream",
     "text": [
      "1 grado de celsius a  kelvin 274.15\n",
      "1 grado de celsius a  farenheit 33.8\n",
      "1 grado de kelvin a  celsius -272.15\n",
      "1 grado de kelvin a  farenheit -457.86999999999995\n",
      "1 grado de farenheit a  celsius -17.22222222222222\n",
      "1 grado de farenheit a  kelvin 255.92777777777775\n"
     ]
    }
   ],
   "source": [
    "metricas = ['celsius', 'kelvin', 'farenheit']\n",
    "\n",
    "for i in metricas:\n",
    "    for e in metricas:\n",
    "        if i == e:\n",
    "            continue\n",
    "        else:\n",
    "            print(\"1 grado de\", i ,\"a \", e ,grados_conver(1, i, e))"
   ]
  },
  {
   "attachments": {},
   "cell_type": "markdown",
   "metadata": {},
   "source": [
    "6) Armar una función que devuelva el factorial de un número. Tener en cuenta que el usuario puede equivocarse y enviar de parámetro un número no entero o negativo"
   ]
  },
  {
   "cell_type": "code",
   "execution_count": 9,
   "metadata": {},
   "outputs": [
    {
     "name": "stdout",
     "output_type": "stream",
     "text": [
      "Debe ingresar un numero entero positivo\n",
      "None\n"
     ]
    }
   ],
   "source": [
    "def factorial(num):\n",
    "    if num >1:\n",
    "        num = num * factorial(num-1)\n",
    "    return num\n",
    "\n",
    "def factorial_excepciones(numero):\n",
    "    if type(numero) != int or numero < 0:\n",
    "        print(\"Debe ingresar un numero entero positivo\")\n",
    "    else:\n",
    "        return factorial(numero)\n",
    "\n",
    "print(factorial_excepciones(-2))"
   ]
  }
 ],
 "metadata": {
  "interpreter": {
   "hash": "c85384e4cb51c8b72350f3a8712cc8351fdc3955e32a27f9b60c6242ab125f01"
  },
  "kernelspec": {
   "display_name": "Python 3 (ipykernel)",
   "language": "python",
   "name": "python3"
  },
  "language_info": {
   "codemirror_mode": {
    "name": "ipython",
    "version": 3
   },
   "file_extension": ".py",
   "mimetype": "text/x-python",
   "name": "python",
   "nbconvert_exporter": "python",
   "pygments_lexer": "ipython3",
   "version": "3.10.11"
  }
 },
 "nbformat": 4,
 "nbformat_minor": 4
}
